{
 "cells": [
  {
   "cell_type": "code",
   "execution_count": 3,
   "metadata": {},
   "outputs": [],
   "source": [
    "from bs4 import BeautifulSoup\n",
    "import requests\n"
   ]
  },
  {
   "cell_type": "code",
   "execution_count": 4,
   "metadata": {},
   "outputs": [],
   "source": [
    "url = 'http://www.jonathanbech.tel/data-science-part-time-class'"
   ]
  },
  {
   "cell_type": "code",
   "execution_count": 5,
   "metadata": {},
   "outputs": [],
   "source": [
    "req = requests.get(url)"
   ]
  },
  {
   "cell_type": "code",
   "execution_count": 6,
   "metadata": {},
   "outputs": [
    {
     "data": {
      "text/plain": [
       "<Response [200]>"
      ]
     },
     "execution_count": 6,
     "metadata": {},
     "output_type": "execute_result"
    }
   ],
   "source": [
    "req"
   ]
  },
  {
   "cell_type": "code",
   "execution_count": 8,
   "metadata": {},
   "outputs": [],
   "source": [
    "scraper = BeautifulSoup(req.text)"
   ]
  },
  {
   "cell_type": "code",
   "execution_count": 11,
   "metadata": {},
   "outputs": [],
   "source": [
    "divs = scraper.find_all('div')"
   ]
  },
  {
   "cell_type": "code",
   "execution_count": 15,
   "metadata": {},
   "outputs": [
    {
     "data": {
      "text/plain": [
       "<div aria-labelledby=\"dropdown01\" class=\"dropdown-menu\">\n",
       "<a class=\"dropdown-item\" href=\"/data-science-part-time-class\">Part Time Class</a>\n",
       "<a class=\"dropdown-item\" href=\"/webinars\">Webinars</a>\n",
       "</div>"
      ]
     },
     "execution_count": 15,
     "metadata": {},
     "output_type": "execute_result"
    }
   ],
   "source": [
    "divs[2]"
   ]
  },
  {
   "cell_type": "code",
   "execution_count": 16,
   "metadata": {},
   "outputs": [],
   "source": [
    "para = scraper.find_all('p')"
   ]
  },
  {
   "cell_type": "code",
   "execution_count": 19,
   "metadata": {},
   "outputs": [
    {
     "data": {
      "text/plain": [
       "[<p class=\"text-center\">I teach a 10 week part time class that aims to give students a rapid introduction to the field of data science that's designed to be equal parts\n",
       "       practical, relevant, and hands on.</p>,\n",
       " <p class=\"card-text\"><strong>Objective: </strong>Unit 1 gives students hands on practice on the most popular tools used to generate unique datasets:  web scraping and API's.  For students new to programming there's a complimentary track that allows them to focus on programming fundamentals to get through the rest of the class.</p>]"
      ]
     },
     "execution_count": 19,
     "metadata": {},
     "output_type": "execute_result"
    }
   ],
   "source": [
    "para[0:2]"
   ]
  },
  {
   "cell_type": "code",
   "execution_count": 23,
   "metadata": {},
   "outputs": [],
   "source": [
    "buttons = scraper.find_all('button', {'class': 'btn', 'class': 'btn-link'})"
   ]
  },
  {
   "cell_type": "code",
   "execution_count": 26,
   "metadata": {},
   "outputs": [
    {
     "data": {
      "text/plain": [
       "<button aria-controls=\"collapse2\" aria-expanded=\"false\" class=\"btn btn-link\" data-target=\"#collapse2\" data-toggle=\"collapse\">\n",
       "              Unit 1, - Class 3 -- Working With API Data\n",
       "          </button>"
      ]
     },
     "execution_count": 26,
     "metadata": {},
     "output_type": "execute_result"
    }
   ],
   "source": [
    "buttons[2]"
   ]
  },
  {
   "cell_type": "code",
   "execution_count": 27,
   "metadata": {},
   "outputs": [],
   "source": [
    "class_text = scraper.find_all('div', {'class': 'card-body'})"
   ]
  },
  {
   "cell_type": "code",
   "execution_count": 35,
   "metadata": {},
   "outputs": [
    {
     "data": {
      "text/plain": [
       "<div class=\"card-body\">\n",
       "            Class 2 will be the only class exclusively devoted to pure python programming.  We'll go over the most commonly used elements of the python syntax: conditional logic and for-loops.  Beginner students will have more straight-forward exercises to complete to make sure they understand basic fundamentals, and advanced students will have a chance to explore more complicated programming tasks that allow them to programatically interact with their operating system and lesser known looping techniques that are very useful for ML programming.\n",
       "          </div>"
      ]
     },
     "execution_count": 35,
     "metadata": {},
     "output_type": "execute_result"
    }
   ],
   "source": [
    "class_text[1]"
   ]
  },
  {
   "cell_type": "code",
   "execution_count": 46,
   "metadata": {},
   "outputs": [],
   "source": [
    "url = 'https://www.yelp.com/search?find_desc=Restaurants&find_loc=London%2C%20United%20Kingdom&ns=1'\n",
    "req = requests.get(url)\n",
    "yelp_scraper = BeautifulSoup(req.text)\n",
    "titles = yelp_scraper.find_all('a', {'class': 'lemon--a__373c0__IEZFH', 'class': 'link__373c0__1G70M',\n",
    "                                'class': 'link-color--inherit__373c0__3dzpk',\n",
    "                                'class':  'link-size--inherit__373c0__1VFlE'})"
   ]
  },
  {
   "cell_type": "code",
   "execution_count": 47,
   "metadata": {},
   "outputs": [
    {
     "data": {
      "text/plain": [
       "[<a class=\"lemon--a__373c0__IEZFH link__373c0__1G70M link-color--inherit__373c0__3dzpk link-size--inherit__373c0__1VFlE\" href=\"/biz/the-mayfair-chippy-london-2?osq=Restaurants\" name=\"The Mayfair Chippy\" rel=\"\" target=\"\">The Mayfair Chippy</a>,\n",
       " <a class=\"lemon--a__373c0__IEZFH link__373c0__1G70M link-color--blue-dark__373c0__85-Nu link-size--inherit__373c0__1VFlE\" href=\"/biz/the-mayfair-chippy-london-2?hrid=i3VYneHDGk-jNF94nFhe_w&amp;osq=Restaurants\" name=\"\" rel=\"\" target=\"\">more</a>,\n",
       " <a class=\"lemon--a__373c0__IEZFH link__373c0__1G70M link-color--inherit__373c0__3dzpk link-size--inherit__373c0__1VFlE\" href=\"/biz/dishoom-london?osq=Restaurants\" name=\"Dishoom\" rel=\"\" target=\"\">Dishoom</a>,\n",
       " <a class=\"lemon--a__373c0__IEZFH link__373c0__1G70M link-color--blue-dark__373c0__85-Nu link-size--inherit__373c0__1VFlE\" href=\"/biz/dishoom-london?hrid=zJTd9wGX60KORLU7K3qyiA&amp;osq=Restaurants\" name=\"\" rel=\"\" target=\"\">more</a>,\n",
       " <a class=\"lemon--a__373c0__IEZFH link__373c0__1G70M link-color--inherit__373c0__3dzpk link-size--inherit__373c0__1VFlE\" href=\"/biz/flat-iron-london-2?osq=Restaurants\" name=\"Flat Iron\" rel=\"\" target=\"\">Flat Iron</a>,\n",
       " <a class=\"lemon--a__373c0__IEZFH link__373c0__1G70M link-color--blue-dark__373c0__85-Nu link-size--inherit__373c0__1VFlE\" href=\"/biz/flat-iron-london-2?hrid=i7gMG3l6ArbQTP-6kdjF-Q&amp;osq=Restaurants\" name=\"\" rel=\"\" target=\"\">more</a>,\n",
       " <a class=\"lemon--a__373c0__IEZFH link__373c0__1G70M link-color--inherit__373c0__3dzpk link-size--inherit__373c0__1VFlE\" href=\"/biz/restaurant-gordon-ramsay-london-3?osq=Restaurants\" name=\"Restaurant Gordon Ramsay\" rel=\"\" target=\"\">Restaurant Gordon Ramsay</a>,\n",
       " <a class=\"lemon--a__373c0__IEZFH link__373c0__1G70M link-color--blue-dark__373c0__85-Nu link-size--inherit__373c0__1VFlE\" href=\"/biz/restaurant-gordon-ramsay-london-3?hrid=uyyr9BXyAbTHhKPVhzhARg&amp;osq=Restaurants\" name=\"\" rel=\"\" target=\"\">more</a>,\n",
       " <a class=\"lemon--a__373c0__IEZFH link__373c0__1G70M link-color--inherit__373c0__3dzpk link-size--inherit__373c0__1VFlE\" href=\"/biz/ffionas-restaurant-london?osq=Restaurants\" name=\"Ffiona’s Restaurant\" rel=\"\" target=\"\">Ffiona’s Restaurant</a>,\n",
       " <a class=\"lemon--a__373c0__IEZFH link__373c0__1G70M link-color--blue-dark__373c0__85-Nu link-size--inherit__373c0__1VFlE\" href=\"/biz/ffionas-restaurant-london?hrid=IixyLOwPCR5t9TAoJcPFoQ&amp;osq=Restaurants\" name=\"\" rel=\"\" target=\"\">more</a>,\n",
       " <a class=\"lemon--a__373c0__IEZFH link__373c0__1G70M link-color--inherit__373c0__3dzpk link-size--inherit__373c0__1VFlE\" href=\"/biz/mother-mash-london?osq=Restaurants\" name=\"Mother Mash\" rel=\"\" target=\"\">Mother Mash</a>,\n",
       " <a class=\"lemon--a__373c0__IEZFH link__373c0__1G70M link-color--blue-dark__373c0__85-Nu link-size--inherit__373c0__1VFlE\" href=\"/biz/mother-mash-london?hrid=5wvn4a5l7Uu-b5u6Rqlh1g&amp;osq=Restaurants\" name=\"\" rel=\"\" target=\"\">more</a>,\n",
       " <a class=\"lemon--a__373c0__IEZFH link__373c0__1G70M link-color--inherit__373c0__3dzpk link-size--inherit__373c0__1VFlE\" href=\"/biz/the-queens-arms-london?osq=Restaurants\" name=\"The Queens Arms\" rel=\"\" target=\"\">The Queens Arms</a>,\n",
       " <a class=\"lemon--a__373c0__IEZFH link__373c0__1G70M link-color--blue-dark__373c0__85-Nu link-size--inherit__373c0__1VFlE\" href=\"/biz/the-queens-arms-london?hrid=2iGPqnvZSGv93r_QhMvsBg&amp;osq=Restaurants\" name=\"\" rel=\"\" target=\"\">more</a>,\n",
       " <a class=\"lemon--a__373c0__IEZFH link__373c0__1G70M link-color--inherit__373c0__3dzpk link-size--inherit__373c0__1VFlE\" href=\"/biz/padella-london-3?osq=Restaurants\" name=\"Padella\" rel=\"\" target=\"\">Padella</a>,\n",
       " <a class=\"lemon--a__373c0__IEZFH link__373c0__1G70M link-color--blue-dark__373c0__85-Nu link-size--inherit__373c0__1VFlE\" href=\"/biz/padella-london-3?hrid=KZrAxtoEykUwxU6U-U1_7Q&amp;osq=Restaurants\" name=\"\" rel=\"\" target=\"\">more</a>,\n",
       " <a class=\"lemon--a__373c0__IEZFH link__373c0__1G70M link-color--inherit__373c0__3dzpk link-size--inherit__373c0__1VFlE\" href=\"/biz/the-grazing-goat-london?osq=Restaurants\" name=\"The Grazing Goat\" rel=\"\" target=\"\">The Grazing Goat</a>,\n",
       " <a class=\"lemon--a__373c0__IEZFH link__373c0__1G70M link-color--blue-dark__373c0__85-Nu link-size--inherit__373c0__1VFlE\" href=\"/biz/the-grazing-goat-london?hrid=_ZArZrTcaYcYpe741jnxew&amp;osq=Restaurants\" name=\"\" rel=\"\" target=\"\">more</a>,\n",
       " <a class=\"lemon--a__373c0__IEZFH link__373c0__1G70M link-color--inherit__373c0__3dzpk link-size--inherit__373c0__1VFlE\" href=\"/biz/the-golden-chippy-london?osq=Restaurants\" name=\"The Golden Chippy\" rel=\"\" target=\"\">The Golden Chippy</a>,\n",
       " <a class=\"lemon--a__373c0__IEZFH link__373c0__1G70M link-color--blue-dark__373c0__85-Nu link-size--inherit__373c0__1VFlE\" href=\"/biz/the-golden-chippy-london?hrid=BeJihhAoEBTNgf-GID0kGA&amp;osq=Restaurants\" name=\"\" rel=\"\" target=\"\">more</a>,\n",
       " <a class=\"lemon--a__373c0__IEZFH link__373c0__1G70M link-color--inherit__373c0__3dzpk link-size--inherit__373c0__1VFlE\" href=\"/biz/bao-soho-london?osq=Restaurants\" name=\"BAO - Soho\" rel=\"\" target=\"\">BAO - Soho</a>,\n",
       " <a class=\"lemon--a__373c0__IEZFH link__373c0__1G70M link-color--blue-dark__373c0__85-Nu link-size--inherit__373c0__1VFlE\" href=\"/biz/bao-soho-london?hrid=tvQ28k-YKvOwSOqadtwfpA&amp;osq=Restaurants\" name=\"\" rel=\"\" target=\"\">more</a>,\n",
       " <a class=\"lemon--a__373c0__IEZFH link__373c0__1G70M link-color--inherit__373c0__3dzpk link-size--inherit__373c0__1VFlE\" href=\"/biz/duck-and-waffle-london?osq=Restaurants\" name=\"Duck &amp; Waffle\" rel=\"\" target=\"\">Duck &amp; Waffle</a>,\n",
       " <a class=\"lemon--a__373c0__IEZFH link__373c0__1G70M link-color--blue-dark__373c0__85-Nu link-size--inherit__373c0__1VFlE\" href=\"/biz/duck-and-waffle-london?hrid=GSFuMpsAqcck1AYqppXlfA&amp;osq=Restaurants\" name=\"\" rel=\"\" target=\"\">more</a>,\n",
       " <a class=\"lemon--a__373c0__IEZFH link__373c0__1G70M link-color--inherit__373c0__3dzpk link-size--inherit__373c0__1VFlE\" href=\"/biz/ye-olde-cheshire-cheese-london?osq=Restaurants\" name=\"Ye Olde Cheshire Cheese\" rel=\"\" target=\"\">Ye Olde Cheshire Cheese</a>,\n",
       " <a class=\"lemon--a__373c0__IEZFH link__373c0__1G70M link-color--blue-dark__373c0__85-Nu link-size--inherit__373c0__1VFlE\" href=\"/biz/ye-olde-cheshire-cheese-london?hrid=tF7ERrNyOjJBFPDtg9f2QQ&amp;osq=Restaurants\" name=\"\" rel=\"\" target=\"\">more</a>,\n",
       " <a class=\"lemon--a__373c0__IEZFH link__373c0__1G70M link-color--inherit__373c0__3dzpk link-size--inherit__373c0__1VFlE\" href=\"/biz/dishoom-london-7?osq=Restaurants\" name=\"Dishoom\" rel=\"\" target=\"\">Dishoom</a>,\n",
       " <a class=\"lemon--a__373c0__IEZFH link__373c0__1G70M link-color--blue-dark__373c0__85-Nu link-size--inherit__373c0__1VFlE\" href=\"/biz/dishoom-london-7?hrid=B2fgDuIjS9PUXMbToFPHxA&amp;osq=Restaurants\" name=\"\" rel=\"\" target=\"\">more</a>,\n",
       " <a class=\"lemon--a__373c0__IEZFH link__373c0__1G70M link-color--inherit__373c0__3dzpk link-size--inherit__373c0__1VFlE\" href=\"/biz/the-pig-and-butcher-london?osq=Restaurants\" name=\"The Pig and Butcher\" rel=\"\" target=\"\">The Pig and Butcher</a>,\n",
       " <a class=\"lemon--a__373c0__IEZFH link__373c0__1G70M link-color--blue-dark__373c0__85-Nu link-size--inherit__373c0__1VFlE\" href=\"/biz/the-pig-and-butcher-london?hrid=eEADHoqlz1deOmjqTUV2Fg&amp;osq=Restaurants\" name=\"\" rel=\"\" target=\"\">more</a>,\n",
       " <a class=\"lemon--a__373c0__IEZFH link__373c0__1G70M link-color--inherit__373c0__3dzpk link-size--inherit__373c0__1VFlE\" href=\"/biz/sketch-london-2?osq=Restaurants\" name=\"Sketch\" rel=\"\" target=\"\">Sketch</a>,\n",
       " <a class=\"lemon--a__373c0__IEZFH link__373c0__1G70M link-color--blue-dark__373c0__85-Nu link-size--inherit__373c0__1VFlE\" href=\"/biz/sketch-london-2?hrid=BRFLYWmAUrX7PNQ56e3Opw&amp;osq=Restaurants\" name=\"\" rel=\"\" target=\"\">more</a>,\n",
       " <a class=\"lemon--a__373c0__IEZFH link__373c0__1G70M link-color--inherit__373c0__3dzpk link-size--inherit__373c0__1VFlE\" href=\"/biz/nopi-london?osq=Restaurants\" name=\"NOPI\" rel=\"\" target=\"\">NOPI</a>,\n",
       " <a class=\"lemon--a__373c0__IEZFH link__373c0__1G70M link-color--blue-dark__373c0__85-Nu link-size--inherit__373c0__1VFlE\" href=\"/biz/nopi-london?hrid=AlRxFx-eSIsET4FEX7alsQ&amp;osq=Restaurants\" name=\"\" rel=\"\" target=\"\">more</a>,\n",
       " <a class=\"lemon--a__373c0__IEZFH link__373c0__1G70M link-color--inherit__373c0__3dzpk link-size--inherit__373c0__1VFlE\" href=\"/biz/the-churchill-arms-london?osq=Restaurants\" name=\"The Churchill Arms\" rel=\"\" target=\"\">The Churchill Arms</a>,\n",
       " <a class=\"lemon--a__373c0__IEZFH link__373c0__1G70M link-color--blue-dark__373c0__85-Nu link-size--inherit__373c0__1VFlE\" href=\"/biz/the-churchill-arms-london?hrid=FZrqjJ3tcDzZLtThYuS1iw&amp;osq=Restaurants\" name=\"\" rel=\"\" target=\"\">more</a>,\n",
       " <a class=\"lemon--a__373c0__IEZFH link__373c0__1G70M link-color--inherit__373c0__3dzpk link-size--inherit__373c0__1VFlE\" href=\"/biz/abeno-london?osq=Restaurants\" name=\"Abeno\" rel=\"\" target=\"\">Abeno</a>,\n",
       " <a class=\"lemon--a__373c0__IEZFH link__373c0__1G70M link-color--blue-dark__373c0__85-Nu link-size--inherit__373c0__1VFlE\" href=\"/biz/abeno-london?hrid=HFXfXV1ybJhJcCyx3lgpVg&amp;osq=Restaurants\" name=\"\" rel=\"\" target=\"\">more</a>,\n",
       " <a class=\"lemon--a__373c0__IEZFH link__373c0__1G70M link-color--inherit__373c0__3dzpk link-size--inherit__373c0__1VFlE\" href=\"/biz/the-victoria-paddington?osq=Restaurants\" name=\"The Victoria\" rel=\"\" target=\"\">The Victoria</a>,\n",
       " <a class=\"lemon--a__373c0__IEZFH link__373c0__1G70M link-color--inherit__373c0__3dzpk link-size--inherit__373c0__1VFlE\" href=\"/biz/the-shed-london-3?osq=Restaurants\" name=\"The Shed\" rel=\"\" target=\"\">The Shed</a>,\n",
       " <a class=\"lemon--a__373c0__IEZFH link__373c0__1G70M link-color--blue-dark__373c0__85-Nu link-size--inherit__373c0__1VFlE\" href=\"/biz/the-shed-london-3?hrid=KBsypk-Xvo3BMuRQwQ-PgA&amp;osq=Restaurants\" name=\"\" rel=\"\" target=\"\">more</a>,\n",
       " <a class=\"lemon--a__373c0__IEZFH link__373c0__1G70M link-color--inherit__373c0__3dzpk link-size--inherit__373c0__1VFlE\" href=\"/biz/shoryu-ramen-london?osq=Restaurants\" name=\"Shoryu Ramen\" rel=\"\" target=\"\">Shoryu Ramen</a>,\n",
       " <a class=\"lemon--a__373c0__IEZFH link__373c0__1G70M link-color--blue-dark__373c0__85-Nu link-size--inherit__373c0__1VFlE\" href=\"/biz/shoryu-ramen-london?hrid=af8NrHug-4TOlhgeDHZdog&amp;osq=Restaurants\" name=\"\" rel=\"\" target=\"\">more</a>,\n",
       " <a class=\"lemon--a__373c0__IEZFH link__373c0__1G70M link-color--inherit__373c0__3dzpk link-size--inherit__373c0__1VFlE\" href=\"/biz/busaba-soho-soho?osq=Restaurants\" name=\"Busaba Soho\" rel=\"\" target=\"\">Busaba Soho</a>,\n",
       " <a class=\"lemon--a__373c0__IEZFH link__373c0__1G70M link-color--blue-dark__373c0__85-Nu link-size--inherit__373c0__1VFlE\" href=\"/biz/busaba-soho-soho?hrid=2gnhtcIplwk5Qaio_tsaeQ&amp;osq=Restaurants\" name=\"\" rel=\"\" target=\"\">more</a>,\n",
       " <a class=\"lemon--a__373c0__IEZFH link__373c0__1G70M link-color--inherit__373c0__3dzpk link-size--inherit__373c0__1VFlE\" href=\"/biz/the-colonel-fawcett-london?osq=Restaurants\" name=\"The Colonel Fawcett\" rel=\"\" target=\"\">The Colonel Fawcett</a>,\n",
       " <a class=\"lemon--a__373c0__IEZFH link__373c0__1G70M link-color--blue-dark__373c0__85-Nu link-size--inherit__373c0__1VFlE\" href=\"/biz/the-colonel-fawcett-london?hrid=wIvXcatcfyuXhUsO377oBg&amp;osq=Restaurants\" name=\"\" rel=\"\" target=\"\">more</a>,\n",
       " <a class=\"lemon--a__373c0__IEZFH link__373c0__1G70M link-color--inherit__373c0__3dzpk link-size--inherit__373c0__1VFlE\" href=\"/biz/gordon-ramsay-street-pizza-london?osq=Restaurants\" name=\"Gordon Ramsay Street Pizza\" rel=\"\" target=\"\">Gordon Ramsay Street Pizza</a>,\n",
       " <a class=\"lemon--a__373c0__IEZFH link__373c0__1G70M link-color--blue-dark__373c0__85-Nu link-size--inherit__373c0__1VFlE\" href=\"/biz/gordon-ramsay-street-pizza-london?hrid=sE4jeexxZMYbsB70IC0UZg&amp;osq=Restaurants\" name=\"\" rel=\"\" target=\"\">more</a>,\n",
       " <a class=\"lemon--a__373c0__IEZFH link__373c0__1G70M link-color--inherit__373c0__3dzpk link-size--inherit__373c0__1VFlE\" href=\"/biz/burger-and-lobster-london-2?osq=Restaurants\" name=\"Burger &amp; Lobster\" rel=\"\" target=\"\">Burger &amp; Lobster</a>,\n",
       " <a class=\"lemon--a__373c0__IEZFH link__373c0__1G70M link-color--blue-dark__373c0__85-Nu link-size--inherit__373c0__1VFlE\" href=\"/biz/burger-and-lobster-london-2?hrid=Kv-2x_Fw8PKulUFyQOR6qw&amp;osq=Restaurants\" name=\"\" rel=\"\" target=\"\">more</a>,\n",
       " <a class=\"lemon--a__373c0__IEZFH link__373c0__1G70M link-color--inherit__373c0__3dzpk link-size--inherit__373c0__1VFlE\" href=\"/biz/hawksmoor-seven-dials-london-4?osq=Restaurants\" name=\"Hawksmoor Seven Dials\" rel=\"\" target=\"\">Hawksmoor Seven Dials</a>,\n",
       " <a class=\"lemon--a__373c0__IEZFH link__373c0__1G70M link-color--blue-dark__373c0__85-Nu link-size--inherit__373c0__1VFlE\" href=\"/biz/hawksmoor-seven-dials-london-4?hrid=dN1IfCB1_bW-mQqV9VxP0A&amp;osq=Restaurants\" name=\"\" rel=\"\" target=\"\">more</a>,\n",
       " <a class=\"lemon--a__373c0__IEZFH link__373c0__1G70M link-color--inherit__373c0__3dzpk link-size--inherit__373c0__1VFlE\" href=\"/biz/savoir-faire-london?osq=Restaurants\" name=\"Savoir Faire\" rel=\"\" target=\"\">Savoir Faire</a>,\n",
       " <a class=\"lemon--a__373c0__IEZFH link__373c0__1G70M link-color--blue-dark__373c0__85-Nu link-size--inherit__373c0__1VFlE\" href=\"/biz/savoir-faire-london?hrid=7ThzmPytTlk5M2RPBSBTBg&amp;osq=Restaurants\" name=\"\" rel=\"\" target=\"\">more</a>,\n",
       " <a class=\"lemon--a__373c0__IEZFH link__373c0__1G70M link-color--inherit__373c0__3dzpk link-size--inherit__373c0__1VFlE\" href=\"/biz/yauatcha-london-8?osq=Restaurants\" name=\"Yauatcha\" rel=\"\" target=\"\">Yauatcha</a>,\n",
       " <a class=\"lemon--a__373c0__IEZFH link__373c0__1G70M link-color--blue-dark__373c0__85-Nu link-size--inherit__373c0__1VFlE\" href=\"/biz/yauatcha-london-8?hrid=HEcN6U--k1OnVD8LZHJ89Q&amp;osq=Restaurants\" name=\"\" rel=\"\" target=\"\">more</a>,\n",
       " <a class=\"lemon--a__373c0__IEZFH link__373c0__1G70M link-color--inherit__373c0__3dzpk link-size--inherit__373c0__1VFlE\" href=\"/biz/london-house-by-gordon-ramsay-london-2?osq=Restaurants\" name=\"London House by Gordon Ramsay\" rel=\"\" target=\"\">London House by Gordon Ramsay</a>,\n",
       " <a class=\"lemon--a__373c0__IEZFH link__373c0__1G70M link-color--blue-dark__373c0__85-Nu link-size--inherit__373c0__1VFlE\" href=\"/biz/london-house-by-gordon-ramsay-london-2?hrid=cL7PK2w0ap05t_-lnXPSfg&amp;osq=Restaurants\" name=\"\" rel=\"\" target=\"\">more</a>,\n",
       " <a class=\"lemon--a__373c0__IEZFH link__373c0__1G70M pagination-link-component__373c0__9aHoC link-color--inherit__373c0__3dzpk link-size--inherit__373c0__1VFlE\" href=\"/search?find_desc=Restaurants&amp;find_loc=London%2C%20United%20Kingdom&amp;start=30\" name=\"\" rel=\"\" role=\"link\" target=\"\"><div aria-label=\"Page: 2\" class=\"lemon--div__373c0__1mboc undefined display--inline-block__373c0__1ZKqC border-color--default__373c0__3-ifU\">2</div></a>,\n",
       " <a class=\"lemon--a__373c0__IEZFH link__373c0__1G70M pagination-link-component__373c0__9aHoC link-color--inherit__373c0__3dzpk link-size--inherit__373c0__1VFlE\" href=\"/search?find_desc=Restaurants&amp;find_loc=London%2C%20United%20Kingdom&amp;start=60\" name=\"\" rel=\"\" role=\"link\" target=\"\"><div aria-label=\"Page: 3\" class=\"lemon--div__373c0__1mboc undefined display--inline-block__373c0__1ZKqC border-color--default__373c0__3-ifU\">3</div></a>,\n",
       " <a class=\"lemon--a__373c0__IEZFH link__373c0__1G70M pagination-link-component__373c0__9aHoC link-color--inherit__373c0__3dzpk link-size--inherit__373c0__1VFlE\" href=\"/search?find_desc=Restaurants&amp;find_loc=London%2C%20United%20Kingdom&amp;start=90\" name=\"\" rel=\"\" role=\"link\" target=\"\"><div aria-label=\"Page: 4\" class=\"lemon--div__373c0__1mboc undefined display--inline-block__373c0__1ZKqC border-color--default__373c0__3-ifU\">4</div></a>,\n",
       " <a class=\"lemon--a__373c0__IEZFH link__373c0__1G70M pagination-link-component__373c0__9aHoC link-color--inherit__373c0__3dzpk link-size--inherit__373c0__1VFlE\" href=\"/search?find_desc=Restaurants&amp;find_loc=London%2C%20United%20Kingdom&amp;start=120\" name=\"\" rel=\"\" role=\"link\" target=\"\"><div aria-label=\"Page: 5\" class=\"lemon--div__373c0__1mboc undefined display--inline-block__373c0__1ZKqC border-color--default__373c0__3-ifU\">5</div></a>,\n",
       " <a class=\"lemon--a__373c0__IEZFH link__373c0__1G70M pagination-link-component__373c0__9aHoC link-color--inherit__373c0__3dzpk link-size--inherit__373c0__1VFlE\" href=\"/search?find_desc=Restaurants&amp;find_loc=London%2C%20United%20Kingdom&amp;start=150\" name=\"\" rel=\"\" role=\"link\" target=\"\"><div aria-label=\"Page: 6\" class=\"lemon--div__373c0__1mboc undefined display--inline-block__373c0__1ZKqC border-color--default__373c0__3-ifU\">6</div></a>,\n",
       " <a class=\"lemon--a__373c0__IEZFH link__373c0__1G70M pagination-link-component__373c0__9aHoC link-color--inherit__373c0__3dzpk link-size--inherit__373c0__1VFlE\" href=\"/search?find_desc=Restaurants&amp;find_loc=London%2C%20United%20Kingdom&amp;start=180\" name=\"\" rel=\"\" role=\"link\" target=\"\"><div aria-label=\"Page: 7\" class=\"lemon--div__373c0__1mboc undefined display--inline-block__373c0__1ZKqC border-color--default__373c0__3-ifU\">7</div></a>,\n",
       " <a class=\"lemon--a__373c0__IEZFH link__373c0__1G70M pagination-link-component__373c0__9aHoC link-color--inherit__373c0__3dzpk link-size--inherit__373c0__1VFlE\" href=\"/search?find_desc=Restaurants&amp;find_loc=London%2C%20United%20Kingdom&amp;start=210\" name=\"\" rel=\"\" role=\"link\" target=\"\"><div aria-label=\"Page: 8\" class=\"lemon--div__373c0__1mboc undefined display--inline-block__373c0__1ZKqC border-color--default__373c0__3-ifU\">8</div></a>,\n",
       " <a class=\"lemon--a__373c0__IEZFH link__373c0__1G70M next-link navigation-button__373c0__23BAT link-color--inherit__373c0__3dzpk link-size--inherit__373c0__1VFlE\" href=\"/search?find_desc=Restaurants&amp;find_loc=London%2C%20United%20Kingdom&amp;start=30\" name=\"\" rel=\"\" role=\"link\" target=\"\"><span aria-hidden=\"true\" class=\"lemon--span__373c0__3997G icon__373c0__ehCWV icon--24-chevron-right-v2 icon--currentColor__373c0__x-sG2 icon--v2__373c0__1yp8c navigation-button-icon__373c0__1WyUh\" style=\"width:24px;height:24px\"><svg class=\"icon_svg\" height=\"24\" viewbox=\"0 0 24 24\" width=\"24\" xmlns=\"http://www.w3.org/2000/svg\"><path d=\"M9.75 17.58a1 1 0 0 1-.7-.28 1 1 0 0 1 0-1.42l3.8-3.88L9 8.12a1 1 0 1 1 1.41-1.42L15 11.3a1 1 0 0 1 0 1.4l-4.5 4.58a1 1 0 0 1-.75.3z\"></path></svg></span></a>]"
      ]
     },
     "execution_count": 47,
     "metadata": {},
     "output_type": "execute_result"
    }
   ],
   "source": [
    "titles"
   ]
  },
  {
   "cell_type": "code",
   "execution_count": 39,
   "metadata": {},
   "outputs": [
    {
     "data": {
      "text/plain": [
       "[]"
      ]
     },
     "execution_count": 39,
     "metadata": {},
     "output_type": "execute_result"
    }
   ],
   "source": [
    "titles"
   ]
  },
  {
   "cell_type": "code",
   "execution_count": null,
   "metadata": {},
   "outputs": [],
   "source": []
  }
 ],
 "metadata": {
  "kernelspec": {
   "display_name": "Python 3",
   "language": "python",
   "name": "python3"
  },
  "language_info": {
   "codemirror_mode": {
    "name": "ipython",
    "version": 3
   },
   "file_extension": ".py",
   "mimetype": "text/x-python",
   "name": "python",
   "nbconvert_exporter": "python",
   "pygments_lexer": "ipython3",
   "version": "3.8.3"
  }
 },
 "nbformat": 4,
 "nbformat_minor": 4
}
