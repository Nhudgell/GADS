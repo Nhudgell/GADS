{
 "cells": [
  {
   "cell_type": "markdown",
   "metadata": {},
   "source": [
    "### Web Scraping Lab\n",
    "\n",
    "Welcome!  In today's lab we're going to build a web scraper that's going to build a dataset from restaurant listings on a yelp page.  \n",
    "\n",
    "You can find the web page here: https://www.yelp.com/search?find_desc=Restaurants&find_loc=London%2C%20United%20Kingdom&ns=1\n",
    "\n",
    "The lab questions listed herein will naturally build from the material discussed in class."
   ]
  },
  {
   "cell_type": "markdown",
   "metadata": {},
   "source": [
    "#### Step 1:  Scrape the number of reviews for each restaurant\n",
    "\n",
    "Using a similar methodology we used to find the title of the restaurant find the number of reviews for the 30 restaurants listed on this web page.\n",
    "\n",
    "**Hint:** the `isdigit()` string method will be helpful to detect if a string contains a number."
   ]
  },
  {
   "cell_type": "code",
   "execution_count": 38,
   "metadata": {},
   "outputs": [],
   "source": [
    "# your code here\n",
    "from bs4 import BeautifulSoup\n",
    "import requests\n",
    "url = 'https://www.yelp.com/search?find_desc=Restaurants&find_loc=London%2C%20United%20Kingdom&ns=1'\n",
    "req = requests.get(url)\n",
    "yelp_scraper = BeautifulSoup(req.text)\n",
    "num_reviews = yelp_scraper.find_all('span', {'class': 'lemon--span__373c0__3997G', \n",
    "                                        'class': 'text__373c0__2Kxyz',\n",
    "                                        'class': 'reviewCount__373c0__2r4xT',\n",
    "                                        'class': 'text-color--black-extra-light__373c0__2OyzO'})"
   ]
  },
  {
   "cell_type": "code",
   "execution_count": 39,
   "metadata": {},
   "outputs": [
    {
     "data": {
      "text/plain": [
       "<span class=\"lemon--span__373c0__3997G text__373c0__2Kxyz reviewCount__373c0__2r4xT text-color--black-extra-light__373c0__2OyzO text-align--left__373c0__2XGa-\">277</span>"
      ]
     },
     "execution_count": 39,
     "metadata": {},
     "output_type": "execute_result"
    }
   ],
   "source": [
    "num_reviews[0]"
   ]
  },
  {
   "cell_type": "code",
   "execution_count": 40,
   "metadata": {},
   "outputs": [],
   "source": [
    "#convert everthing into a string\n",
    "num_reviews = [str(review) for review in num_reviews]"
   ]
  },
  {
   "cell_type": "code",
   "execution_count": 41,
   "metadata": {},
   "outputs": [],
   "source": [
    "\n",
    "num_reviews = [review.replace('</span>', '') for review in num_reviews]"
   ]
  },
  {
   "cell_type": "code",
   "execution_count": 42,
   "metadata": {},
   "outputs": [],
   "source": [
    "num_reviews = [review.split('>')[-1] for review in num_reviews]"
   ]
  },
  {
   "cell_type": "code",
   "execution_count": 44,
   "metadata": {},
   "outputs": [
    {
     "data": {
      "text/plain": [
       "['277',\n",
       " '££',\n",
       " '',\n",
       " '1842',\n",
       " '££',\n",
       " '',\n",
       " '378',\n",
       " '££',\n",
       " '',\n",
       " '204',\n",
       " '££££',\n",
       " ', ',\n",
       " '',\n",
       " '270',\n",
       " '££',\n",
       " '',\n",
       " '468',\n",
       " '££',\n",
       " '',\n",
       " '119',\n",
       " '££',\n",
       " ', ',\n",
       " ', ',\n",
       " '',\n",
       " '202',\n",
       " '££',\n",
       " '',\n",
       " '239',\n",
       " '££',\n",
       " ', ',\n",
       " '',\n",
       " '108',\n",
       " '££',\n",
       " '',\n",
       " '183',\n",
       " '££',\n",
       " '',\n",
       " '701',\n",
       " '£££',\n",
       " ', ',\n",
       " ', ',\n",
       " '',\n",
       " '353',\n",
       " '££',\n",
       " ', ',\n",
       " '',\n",
       " '544',\n",
       " '££',\n",
       " '',\n",
       " '109',\n",
       " '££',\n",
       " ', ',\n",
       " '',\n",
       " '830',\n",
       " '£££',\n",
       " ', ',\n",
       " ', ',\n",
       " '',\n",
       " '271',\n",
       " '£££',\n",
       " '',\n",
       " '358',\n",
       " '££',\n",
       " ', ',\n",
       " '',\n",
       " '101',\n",
       " '££',\n",
       " '',\n",
       " '212',\n",
       " '££',\n",
       " ', ',\n",
       " '',\n",
       " '78',\n",
       " '££',\n",
       " '',\n",
       " '375',\n",
       " '££',\n",
       " '',\n",
       " '381',\n",
       " '££',\n",
       " '',\n",
       " '26',\n",
       " '££',\n",
       " '',\n",
       " '30',\n",
       " '££',\n",
       " ', ',\n",
       " '',\n",
       " '292',\n",
       " '££',\n",
       " ', ',\n",
       " '',\n",
       " '342',\n",
       " '£££',\n",
       " ', ',\n",
       " ', ',\n",
       " '',\n",
       " '194',\n",
       " '££',\n",
       " '',\n",
       " '482',\n",
       " '£££',\n",
       " ', ',\n",
       " ', ',\n",
       " '',\n",
       " '22',\n",
       " '£££',\n",
       " '',\n",
       " '',\n",
       " '',\n",
       " '',\n",
       " '',\n",
       " '',\n",
       " '',\n",
       " '',\n",
       " '',\n",
       " '',\n",
       " '1 of 8',\n",
       " '',\n",
       " '']"
      ]
     },
     "execution_count": 44,
     "metadata": {},
     "output_type": "execute_result"
    }
   ],
   "source": [
    "num_reviews"
   ]
  },
  {
   "cell_type": "code",
   "execution_count": 48,
   "metadata": {},
   "outputs": [],
   "source": [
    "num_reviews = [int(review) for review in num_reviews if review.isdigit()]"
   ]
  },
  {
   "cell_type": "code",
   "execution_count": 49,
   "metadata": {},
   "outputs": [
    {
     "data": {
      "text/plain": [
       "[277,\n",
       " 1842,\n",
       " 378,\n",
       " 204,\n",
       " 270,\n",
       " 468,\n",
       " 119,\n",
       " 202,\n",
       " 239,\n",
       " 108,\n",
       " 183,\n",
       " 701,\n",
       " 353,\n",
       " 544,\n",
       " 109,\n",
       " 830,\n",
       " 271,\n",
       " 358,\n",
       " 101,\n",
       " 212,\n",
       " 78,\n",
       " 375,\n",
       " 381,\n",
       " 26,\n",
       " 30,\n",
       " 292,\n",
       " 342,\n",
       " 194,\n",
       " 482,\n",
       " 22]"
      ]
     },
     "execution_count": 49,
     "metadata": {},
     "output_type": "execute_result"
    }
   ],
   "source": [
    "num_reviews"
   ]
  },
  {
   "cell_type": "markdown",
   "metadata": {},
   "source": [
    "#### Step 2:  Find the price range for each restaurant\n",
    "\n",
    "Let's create data for the price range of each restaurant as well, as denoted by the $ \\unicode{x00A3} $ symbol listed on each website.\n",
    "\n",
    "**Hint 1:** The information that you need for this was selected using the same criteria to find the number of reviews.\n",
    "\n",
    "**Hint 2:** You type the $ \\unicode{x00A3} $ symbol in python with the expression `\\xA3`"
   ]
  },
  {
   "cell_type": "code",
   "execution_count": null,
   "metadata": {},
   "outputs": [],
   "source": [
    "# your code here"
   ]
  },
  {
   "cell_type": "markdown",
   "metadata": {},
   "source": [
    "#### Step 3:  Build a Dataframe For the Title, # of Ratings and Price Range of Each Restaurant\n",
    "\n",
    "You will need to create a dictionary structured in the following way:\n",
    "\n",
    "` {\n",
    "    'Title': [list with the titles of each restaurant],\n",
    "    'NumRatings': [list with the number of ratings of each restaurant],\n",
    "    'Price Range': [list with the price range of each restaurant]\n",
    "}`"
   ]
  },
  {
   "cell_type": "code",
   "execution_count": null,
   "metadata": {},
   "outputs": [],
   "source": [
    "# your code here"
   ]
  }
 ],
 "metadata": {
  "kernelspec": {
   "display_name": "Python 3",
   "language": "python",
   "name": "python3"
  },
  "language_info": {
   "codemirror_mode": {
    "name": "ipython",
    "version": 3
   },
   "file_extension": ".py",
   "mimetype": "text/x-python",
   "name": "python",
   "nbconvert_exporter": "python",
   "pygments_lexer": "ipython3",
   "version": "3.8.3"
  }
 },
 "nbformat": 4,
 "nbformat_minor": 4
}
