{
 "cells": [
  {
   "cell_type": "code",
   "execution_count": 27,
   "metadata": {},
   "outputs": [],
   "source": [
    "var1 = 'this is my string'\n",
    "var2 = 'the second string'"
   ]
  },
  {
   "cell_type": "code",
   "execution_count": 4,
   "metadata": {},
   "outputs": [
    {
     "data": {
      "text/plain": [
       "True"
      ]
     },
     "execution_count": 4,
     "metadata": {},
     "output_type": "execute_result"
    }
   ],
   "source": [
    "# this compares two variables to compare if they are NOT the same\n",
    "var1 != var2"
   ]
  },
  {
   "cell_type": "code",
   "execution_count": 29,
   "metadata": {},
   "outputs": [
    {
     "data": {
      "text/plain": [
       "(17, 17)"
      ]
     },
     "execution_count": 29,
     "metadata": {},
     "output_type": "execute_result"
    }
   ],
   "source": [
    "#how many characters / length\n",
    "len(var1), len(var2)\n"
   ]
  },
  {
   "cell_type": "code",
   "execution_count": 28,
   "metadata": {},
   "outputs": [
    {
     "data": {
      "text/plain": [
       "False"
      ]
     },
     "execution_count": 28,
     "metadata": {},
     "output_type": "execute_result"
    }
   ],
   "source": [
    "len(var1) > len(var2)"
   ]
  },
  {
   "cell_type": "code",
   "execution_count": 23,
   "metadata": {},
   "outputs": [
    {
     "name": "stdout",
     "output_type": "stream",
     "text": [
      "nothing was true\n",
      "this was also tied to else\n"
     ]
    }
   ],
   "source": [
    "#writing if statement and indents\n",
    "if len(var1) > len(var2):\n",
    "    print(\"var1 is larger\")\n",
    "    print(\"this also prints\")\n",
    "    var3 = 25\n",
    "# if nothing is true then go in here\n",
    "else:\n",
    "    print(\"nothing was true\")\n",
    "    print(\"this was also tied to else\")"
   ]
  },
  {
   "cell_type": "code",
   "execution_count": 30,
   "metadata": {},
   "outputs": [
    {
     "name": "stdout",
     "output_type": "stream",
     "text": [
      "nothing was true\n",
      "this was also tied to else\n"
     ]
    }
   ],
   "source": [
    "#writing elif statemte\n",
    "if len(var1) > len(var2):\n",
    "    print(\"var1 is larger\")\n",
    "    print(\"this also prints\")\n",
    "elif len(var2) > len(var1):\n",
    "    print(\"Var2 is longer\")\n",
    "    \n",
    "# if nothing is true then go in here\n",
    "else:\n",
    "    print(\"nothing was true\")\n",
    "    print(\"this was also tied to else\")"
   ]
  },
  {
   "cell_type": "code",
   "execution_count": 33,
   "metadata": {},
   "outputs": [
    {
     "name": "stdout",
     "output_type": "stream",
     "text": [
      "this is true\n"
     ]
    }
   ],
   "source": [
    "if var1:\n",
    "    print('this is true')"
   ]
  },
  {
   "cell_type": "code",
   "execution_count": null,
   "metadata": {},
   "outputs": [],
   "source": []
  }
 ],
 "metadata": {
  "kernelspec": {
   "display_name": "Python 3",
   "language": "python",
   "name": "python3"
  },
  "language_info": {
   "codemirror_mode": {
    "name": "ipython",
    "version": 3
   },
   "file_extension": ".py",
   "mimetype": "text/x-python",
   "name": "python",
   "nbconvert_exporter": "python",
   "pygments_lexer": "ipython3",
   "version": "3.8.3"
  }
 },
 "nbformat": 4,
 "nbformat_minor": 4
}
